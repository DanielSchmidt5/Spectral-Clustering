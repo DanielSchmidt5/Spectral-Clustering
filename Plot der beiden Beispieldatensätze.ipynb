{
 "cells": [
  {
   "cell_type": "markdown",
   "id": "137da01d",
   "metadata": {},
   "source": [
    "Dieser Abschitt dient nur dazu, noch nötige Plots der beiden Datensätze zu erzeugen, für die in den anderen Notebooks keine Speicherkapaziztät mehr gewesen ist. Die hier erzuegten Grafiken entsprechen Abbildung 4 in der Arbeit."
   ]
  },
  {
   "cell_type": "code",
   "execution_count": 1,
   "id": "98589b5e",
   "metadata": {},
   "outputs": [],
   "source": [
    "#Wir implementieren zunächst alle nötigen Bibliotheken\n",
    "import numpy as np\n",
    "\n",
    "from sklearn.cluster import SpectralClustering\n",
    "from sklearn.cluster import KMeans\n",
    "from sklearn.datasets import make_moons, make_blobs\n",
    "from sklearn.neighbors import kneighbors_graph\n",
    "from sklearn.neighbors import radius_neighbors_graph\n",
    "from sklearn.metrics.pairwise import euclidean_distances\n",
    "import networkx as nx\n",
    "import warnings\n",
    "\n",
    "import matplotlib.pyplot as plt\n",
    "import matplotlib\n",
    "\n"
   ]
  },
  {
   "cell_type": "code",
   "execution_count": 2,
   "id": "dc7bbad7",
   "metadata": {},
   "outputs": [],
   "source": [
    "#Datensatz_1: Zwei Monde und ein Blob\n",
    "Monde, y_1 = make_moons(150, noise=0.1, shuffle = False, random_state = 2) #erzeuge Monde\n",
    "Blobs,y_2 = make_blobs(n_samples=100, centers = [[-1,-1]], cluster_std = 0.25, shuffle = False, random_state = 87) #erzeuge Blob\n",
    " \n",
    "\n",
    "\n",
    "#Füge Mode und Blob zu einem Datensatz zusammen\n",
    "Daten_1 = np.concatenate((Monde, Blobs), 0) \n",
    "Zugehörigkeit_1 =  np.concatenate((y_1, y_2+2), 0)\n",
    "\n",
    "#Anzahl Datenpunkte \n",
    "n_1 = Daten_1.shape[0]\n",
    "\n"
   ]
  },
  {
   "cell_type": "code",
   "execution_count": 3,
   "id": "cee3eae1",
   "metadata": {},
   "outputs": [
    {
     "data": {
      "text/plain": [
       "167"
      ]
     },
     "execution_count": 3,
     "metadata": {},
     "output_type": "execute_result"
    }
   ],
   "source": [
    "#Anzahl Datenpunkte\n",
    "n_2 = 500\n",
    "#Blobs\n",
    "Daten_2, Zugehörigkeit_2 = make_blobs(n_samples=n_2,  random_state=170, \n",
    "                                              centers= [[-8.95, -5.46], [-4.59, 0.09], [ 1.94,  0.51]], \n",
    "                                              shuffle= False)\n",
    "\n",
    "#Transformationsmatrix\n",
    "transformation = [[0.5, -0.5], [-0.4, 0.7]]\n",
    "\n",
    "#print(transformation)\n",
    "#transformierte Daten\n",
    "Daten_2 = np.dot(Daten_2, transformation)\n",
    "\n"
   ]
  },
  {
   "cell_type": "code",
   "execution_count": 4,
   "id": "333957aa",
   "metadata": {},
   "outputs": [
    {
     "data": {
      "image/png": "[encoded data removed]",
      "text/plain": [
       "<Figure size 187.2x151.2 with 1 Axes>"
      ]
     },
     "metadata": {
      "needs_background": "light"
     },
     "output_type": "display_data"
    }
   ],
   "source": [
    "from matplotlib.ticker import MaxNLocator #brauchen wir, damit die Achsenbeschriftung nur natürliche Zahlen sind\n",
    "\n",
    "\n",
    "#Plotte ersten Datensatz\n",
    "fig, ax = plt.subplots(nrows=1, ncols=1,figsize=(10,8))\n",
    "ax.set_title('Datensatz 1: Zwei Monde und ein Blob', fontsize=6, fontweight='demi')\n",
    "ax.scatter(Daten_1[:, 0], Daten_1[:, 1], s= 2, c =Zugehörigkeit_1 )\n",
    "ax.set_axis_on()\n",
    "ax.tick_params(left=True, bottom=True, labelleft=True, labelbottom=True, labelsize = 4)\n",
    "ax.set_xlim([-2, 2.5])\n",
    "ax.set_ylim([-2, 1.5])\n",
    "ax.yaxis.set_major_locator(MaxNLocator(integer=True))\n",
    "ax.xaxis.set_major_locator(MaxNLocator(integer=True))\n",
    "\n",
    "\n",
    "fig.set_size_inches(2.6, 2.1)\n",
    "fig.tight_layout()\n",
    "\n",
    "plt.savefig('Datensaetze_1.pdf')"
   ]
  },
  {
   "cell_type": "code",
   "execution_count": 5,
   "id": "d4f1e79d",
   "metadata": {},
   "outputs": [
    {
     "data": {
      "image/png": "[encoded data removed]",
      "text/plain": [
       "<Figure size 187.2x151.2 with 1 Axes>"
      ]
     },
     "metadata": {
      "needs_background": "light"
     },
     "output_type": "display_data"
    }
   ],
   "source": [
    "#Plotte ersten Datensatz\n",
    "fig, ax = plt.subplots(nrows=1, ncols=1,figsize=(10,8))\n",
    "ax.set_title('Datensatz 2: Linear transformierte Blobs', fontsize=6, fontweight='demi')\n",
    "ax.scatter(Daten_2[:, 0], Daten_2[:, 1], s= 2, c =Zugehörigkeit_2 )\n",
    "ax.set_axis_on()\n",
    "ax.tick_params(left=True, bottom=True, labelleft=True, labelbottom=True, labelsize = 4)\n",
    "ax.set_xlim([-5.0, 3.0])\n",
    "ax.set_ylim([-3.0, 5.0])\n",
    "ax.ticklabel_format( axis='both', style='scientific')\n",
    "\n",
    "\n",
    "\n",
    "fig.set_size_inches(2.6, 2.1)\n",
    "fig.tight_layout()\n",
    "\n",
    "plt.savefig('Datensaetze_2.pdf')"
   ]
  }
 ],
 "metadata": {
  "kernelspec": {
   "display_name": "Python 3 (ipykernel)",
   "language": "python",
   "name": "python3"
  },
  "language_info": {
   "codemirror_mode": {
    "name": "ipython",
    "version": 3
   },
   "file_extension": ".py",
   "mimetype": "text/x-python",
   "name": "python",
   "nbconvert_exporter": "python",
   "pygments_lexer": "ipython3",
   "version": "3.9.12"
  }
 },
 "nbformat": 4,
 "nbformat_minor": 5
}
